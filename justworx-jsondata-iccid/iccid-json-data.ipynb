{
 "cells": [
  {
   "cell_type": "code",
   "execution_count": 1,
   "metadata": {},
   "outputs": [
    {
     "name": "stdout",
     "output_type": "stream",
     "text": [
      "Number of ICCID's = 24\n",
      "JSON data saved to fungi-siemens.json\n"
     ]
    }
   ],
   "source": [
    "import pandas as pd\n",
    "import json\n",
    "\n",
    "# Read the CSV file into a DataFrame with no header\n",
    "input_file_path = \"data-24sim-fungi-siemens-outout.csv\"\n",
    "df = pd.read_csv(input_file_path, header=None)\n",
    "\n",
    "# ICCID List\n",
    "iccid_list = df.iloc[:, 0].tolist()\n",
    "\n",
    "\n",
    "# Constant fields\n",
    "Client_name = \"Fungi Siemens\"\n",
    "Plan = \"Data4Life 10MB\"\n",
    "\n",
    "# Create a list to store JSON objects\n",
    "json_data = {\n",
    "    \"sims\": []\n",
    "}\n",
    "\n",
    "# count var to id line where ICCID is incssssssssssssorrect.\n",
    "count = 0\n",
    "\n",
    "# Iterate through the ICCID list and create JSON objects\n",
    "for iccid in iccid_list:\n",
    "    \n",
    "    # Test iccid length to confirm if iccid is valid\n",
    "    # Check if length of each ICCID == 19  is TRUE\n",
    "    \n",
    "    if len(str(iccid)) == 19:\n",
    "        count += 1\n",
    "    else: print(\"iccid length incorrect on line:\", count+1, \"in .csv file\")\n",
    "    \n",
    "\n",
    "    data = {\n",
    "        \"name\": Client_name,\n",
    "        \"iccid\": str(iccid),\n",
    "        \"provider\": 1,\n",
    "        \"simPlan\": Plan,\n",
    "        \"sites\": [\n",
    "            {\n",
    "                \"id\": 7,\n",
    "                \"name\": \"Riecktron\"\n",
    "            }\n",
    "        ]\n",
    "    }\n",
    "    json_data[\"sims\"].append(data)\n",
    "\n",
    "print(\"Number of ICCID's =\", len(iccid_list))\n",
    "\n",
    "# Convert the JSON data to a JSON string\n",
    "json_string = json.dumps(json_data, indent=2)\n",
    "\n",
    "# Print the JSON string\n",
    "#print(json_string[:300])\n",
    "\n",
    "# Save the JSON string to a text file\n",
    "output_file_path = \"fungi-siemens.json\"\n",
    "with open(output_file_path, \"w\") as output_file:\n",
    "    output_file.write(json_string)\n",
    "\n",
    "print(f\"JSON data saved to {output_file_path}\")\n"
   ]
  }
 ],
 "metadata": {
  "kernelspec": {
   "display_name": "Python 3.7.3 64-bit",
   "language": "python",
   "name": "python3"
  },
  "language_info": {
   "codemirror_mode": {
    "name": "ipython",
    "version": 3
   },
   "file_extension": ".py",
   "mimetype": "text/x-python",
   "name": "python",
   "nbconvert_exporter": "python",
   "pygments_lexer": "ipython3",
   "version": "3.7.3"
  },
  "orig_nbformat": 4,
  "vscode": {
   "interpreter": {
    "hash": "916dbcbb3f70747c44a77c7bcd40155683ae19c65e1c03b4aa3499c5328201f1"
   }
  }
 },
 "nbformat": 4,
 "nbformat_minor": 2
}
