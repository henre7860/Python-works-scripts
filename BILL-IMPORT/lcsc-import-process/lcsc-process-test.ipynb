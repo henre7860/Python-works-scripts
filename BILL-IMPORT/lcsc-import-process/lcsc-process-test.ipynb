{
 "cells": [
  {
   "cell_type": "code",
   "execution_count": 1,
   "metadata": {},
   "outputs": [
    {
     "name": "stdout",
     "output_type": "stream",
     "text": [
      "ZARUSD = 5.69453\n",
      "Total USD input = Total calulated USD: True\n",
      "Total ZAR input = Total calulated ZAR: False\n",
      "Total ZAR = 9999.94622\n"
     ]
    }
   ],
   "source": [
    "import pandas as pd\n",
    "\n",
    "inputFileName = \"LCSC_Exported__20230823_203921.csv\"\n",
    "\n",
    "df = pd.read_csv(inputFileName)\n",
    "\n",
    "columnsToKeep = ['Manufacture Part Number', 'Description', 'Order Qty.', 'Unit Price','Order Price']\n",
    "df2 = df[columnsToKeep]\n",
    "\n",
    "totalZAR = 10000\n",
    "totalUSD = 1756.07\n",
    "ZARUSD = round(totalZAR / totalUSD,5)\n",
    "print(\"ZARUSD =\", ZARUSD)\n",
    "\n",
    "totalUSDCalculate = round(sum(df2.loc[:, \"Order Price\"]),6)\n",
    "print(\"Total USD input = Total calulated USD:\",totalUSDCalculate == totalUSD)\n",
    "\n",
    "df2[\"Unit Price (ZAR)\"] = round(df2[\"Unit Price\"] * ZARUSD,6)\n",
    "\n",
    "df2[\"Order Price (ZAR)\"] = df2[\"Order Qty.\"] * df2[\"Unit Price (ZAR)\"] \n",
    "\n",
    "totalZARCalculate = round(sum(df2.loc[:, \"Order Price (ZAR)\"]), 6)\n",
    "print(\"Total ZAR input = Total calulated ZAR:\",totalZARCalculate == totalZAR)\n",
    "print(\"Total ZAR =\", totalZARCalculate)\n",
    "\n",
    "columnsOrder = ['Manufacture Part Number', 'Description', 'Order Qty.', 'Unit Price', 'Unit Price (ZAR)','Order Price','Order Price (ZAR)']\n",
    "\n",
    "output_df = df2[columnsOrder]\n",
    "outputFileName = \"lcsc-ouput-test.csv\"\n",
    "\n",
    "output_df.to_csv(outputFileName, index= None)"
   ]
  }
 ],
 "metadata": {
  "kernelspec": {
   "display_name": "Python 3.7.3 64-bit",
   "language": "python",
   "name": "python3"
  },
  "language_info": {
   "codemirror_mode": {
    "name": "ipython",
    "version": 3
   },
   "file_extension": ".py",
   "mimetype": "text/x-python",
   "name": "python",
   "nbconvert_exporter": "python",
   "pygments_lexer": "ipython3",
   "version": "3.7.3"
  },
  "orig_nbformat": 4,
  "vscode": {
   "interpreter": {
    "hash": "916dbcbb3f70747c44a77c7bcd40155683ae19c65e1c03b4aa3499c5328201f1"
   }
  }
 },
 "nbformat": 4,
 "nbformat_minor": 2
}
