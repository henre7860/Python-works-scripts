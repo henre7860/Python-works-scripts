{
 "cells": [
  {
   "cell_type": "code",
   "execution_count": 1,
   "metadata": {},
   "outputs": [],
   "source": [
    "import pandas as pd\n",
    "import math\n",
    "\n",
    "# Read the CSV file into a DataFrame with no header\n",
    "input_file_path = \"data-24sim.csv\"\n",
    "df = pd.read_csv(input_file_path, header=None)\n",
    "\n",
    "# ICCID List\n",
    "iccid_list = df.iloc[:, 0].tolist()\n",
    "\n",
    "def full_iccid(first):\n",
    "    first_string = str(first)\n",
    "    f_split = [int(i) for i in first_string]\n",
    "\n",
    "    \n",
    "    for i in range(len(f_split)):\n",
    "        if i%2 == 1:\n",
    "            f_split[i] *=2\n",
    "            if f_split[i] > 9:\n",
    "                f_split[i] -= 9\n",
    "\n",
    "    \n",
    "    f_sum = sum(f_split)\n",
    "    digit = math.ceil(f_sum/10) *10 - f_sum\n",
    "\n",
    "    iccid = str(first) + str(digit)\n",
    "\n",
    "\n",
    "    return iccid\n",
    "\n",
    "iccid_calc = []\n",
    "for i in range(len(iccid_list)):\n",
    "    iccid = full_iccid(iccid_list[i])\n",
    "    iccid_calc.append(int(iccid))\n",
    "    "
   ]
  },
  {
   "cell_type": "code",
   "execution_count": 3,
   "metadata": {},
   "outputs": [
    {
     "data": {
      "text/plain": [
       "[8944501811213241362,\n",
       " 8944501811213241354,\n",
       " 8944501811213241347,\n",
       " 8944501811213241339,\n",
       " 8944501811213241321,\n",
       " 8944501811213241313,\n",
       " 8944501811213241305,\n",
       " 8944501811213241297,\n",
       " 8944501811213241289,\n",
       " 8944501811213241271,\n",
       " 8944501811213241263,\n",
       " 8944501811213241255,\n",
       " 8944501811213241248,\n",
       " 8944501811213241230,\n",
       " 8944501811213241222,\n",
       " 8944501811213241214,\n",
       " 8944501811213241206,\n",
       " 8944501811213241198,\n",
       " 8944501811213241180,\n",
       " 8944501811213241172,\n",
       " 8944501811213241164,\n",
       " 8944501811213241156,\n",
       " 8944501811213241149,\n",
       " 8944501811213241131]"
      ]
     },
     "execution_count": 3,
     "metadata": {},
     "output_type": "execute_result"
    }
   ],
   "source": [
    "iccid_calc"
   ]
  },
  {
   "cell_type": "code",
   "execution_count": 4,
   "metadata": {},
   "outputs": [],
   "source": [
    "output_file_path = \"iccid-outout.csv\"\n",
    "\n",
    "df = pd.DataFrame(iccid_calc)\n",
    "df.to_csv(output_file_path, index=False, header=False)"
   ]
  },
  {
   "cell_type": "code",
   "execution_count": 29,
   "metadata": {},
   "outputs": [],
   "source": [
    "def full_iccid(first):\n",
    "    first_string = str(first)\n",
    "    f_split = [int(i) for i in first_string]\n",
    "\n",
    "    \n",
    "    for i in range(len(f_split)):\n",
    "        if i%2 == 1:\n",
    "            f_split[i] *=2\n",
    "            if f_split[i] > 9:\n",
    "                f_split[i] -= 9\n",
    "\n",
    "    \n",
    "    f_sum = sum(f_split)\n",
    "    digit = math.ceil(f_sum/10) *10 - f_sum\n",
    "\n",
    "    iccid = str(first) + str(digit)\n",
    "\n",
    "\n",
    "    return iccid"
   ]
  },
  {
   "cell_type": "code",
   "execution_count": 38,
   "metadata": {},
   "outputs": [],
   "source": [
    "iccid_calc = []\n",
    "for i in range(len(iccid_list)):\n",
    "    iccid = full_iccid(iccid_list[i])\n",
    "    iccid_calc.append(int(iccid))\n",
    "    "
   ]
  },
  {
   "cell_type": "code",
   "execution_count": null,
   "metadata": {},
   "outputs": [],
   "source": []
  }
 ],
 "metadata": {
  "kernelspec": {
   "display_name": "Python 3.7.3 64-bit",
   "language": "python",
   "name": "python3"
  },
  "language_info": {
   "codemirror_mode": {
    "name": "ipython",
    "version": 3
   },
   "file_extension": ".py",
   "mimetype": "text/x-python",
   "name": "python",
   "nbconvert_exporter": "python",
   "pygments_lexer": "ipython3",
   "version": "3.7.3"
  },
  "orig_nbformat": 4,
  "vscode": {
   "interpreter": {
    "hash": "916dbcbb3f70747c44a77c7bcd40155683ae19c65e1c03b4aa3499c5328201f1"
   }
  }
 },
 "nbformat": 4,
 "nbformat_minor": 2
}
