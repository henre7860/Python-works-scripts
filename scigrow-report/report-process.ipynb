{
 "cells": [
  {
   "cell_type": "code",
   "execution_count": 1,
   "metadata": {},
   "outputs": [
    {
     "name": "stdout",
     "output_type": "stream",
     "text": [
      "Report successfully processed\n"
     ]
    }
   ],
   "source": [
    "import pandas as pd\n",
    "\n",
    "# Input and output file names\n",
    "file_name_input = \"forestmews-1dec2023-1jan2024-input.xlsx\"\n",
    "file_name_output = \"forestmews-1dec2023-1jan2024-output.xlsx\"\n",
    "\n",
    "# Read the input Excel file into a DataFrame\n",
    "df = pd.read_excel(file_name_input)\n",
    "\n",
    "df2 = df\n",
    "# Define the start and end months for column renaming and processing\n",
    "start_month = \"1 December 2023\"\n",
    "end_month = \"1 January 2024\"\n",
    "\n",
    "# Get the current column names\n",
    "current_columns = df2.columns.tolist()\n",
    "\n",
    "# Create new column names based on column indices and update DataFrame columns\n",
    "new_columns = current_columns[:2] + [start_month, end_month] + current_columns[4:]\n",
    "df2.columns = new_columns\n",
    "\n",
    "# Process specific columns (including start_month, end_month, and \"Total Consumption\")\n",
    "for column in [start_month, end_month, \"Total Consumption\"]:\n",
    "    # Replace \" kWh\" and commas, then convert to float\n",
    "   \n",
    "    df2[column] = df2[column].str.replace(' kWh', '').str.replace(',', '').astype(float)\n",
    "\n",
    "# Export the cleaned DataFrame to an Excel file\n",
    "df2.to_excel(file_name_output, index=False)\n",
    "\n",
    "# Print a success message\n",
    "print(\"Report successfully processed\")\n"
   ]
  },
  {
   "cell_type": "code",
   "execution_count": null,
   "metadata": {},
   "outputs": [],
   "source": []
  },
  {
   "cell_type": "code",
   "execution_count": null,
   "metadata": {},
   "outputs": [],
   "source": []
  },
  {
   "cell_type": "code",
   "execution_count": 11,
   "metadata": {},
   "outputs": [
    {
     "data": {
      "text/plain": [
       "163"
      ]
     },
     "execution_count": 11,
     "metadata": {},
     "output_type": "execute_result"
    }
   ],
   "source": [
    "len(df['NAME'] == df2['NAME'])"
   ]
  },
  {
   "cell_type": "code",
   "execution_count": null,
   "metadata": {},
   "outputs": [],
   "source": []
  },
  {
   "cell_type": "code",
   "execution_count": null,
   "metadata": {},
   "outputs": [],
   "source": []
  },
  {
   "cell_type": "code",
   "execution_count": null,
   "metadata": {},
   "outputs": [],
   "source": []
  },
  {
   "cell_type": "code",
   "execution_count": null,
   "metadata": {},
   "outputs": [],
   "source": []
  }
 ],
 "metadata": {
  "kernelspec": {
   "display_name": "Python 3.7.3 64-bit",
   "language": "python",
   "name": "python3"
  },
  "language_info": {
   "codemirror_mode": {
    "name": "ipython",
    "version": 3
   },
   "file_extension": ".py",
   "mimetype": "text/x-python",
   "name": "python",
   "nbconvert_exporter": "python",
   "pygments_lexer": "ipython3",
   "version": "3.11.2"
  },
  "orig_nbformat": 4,
  "vscode": {
   "interpreter": {
    "hash": "916dbcbb3f70747c44a77c7bcd40155683ae19c65e1c03b4aa3499c5328201f1"
   }
  }
 },
 "nbformat": 4,
 "nbformat_minor": 2
}
