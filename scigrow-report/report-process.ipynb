{
 "cells": [
  {
   "cell_type": "code",
   "execution_count": 10,
   "metadata": {},
   "outputs": [
    {
     "name": "stdout",
     "output_type": "stream",
     "text": [
      "Report successfully processed\n"
     ]
    }
   ],
   "source": [
    "import pandas as pd\n",
    "\n",
    "# Input and output file names\n",
    "file_name_input = \"test-data.xlsx\"\n",
    "file_name_output = \"test-data-output.xlsx\"\n",
    "\n",
    "# Read the input Excel file into a DataFrame\n",
    "df = pd.read_excel(file_name_input)\n",
    "\n",
    "# Define the start and end months for column renaming and processing\n",
    "start_month = \"1 July 2023\"\n",
    "end_month = \"1 August 2023\"\n",
    "\n",
    "# Get the current column names\n",
    "current_columns = df.columns.tolist()\n",
    "\n",
    "# Create new column names based on column indices and update DataFrame columns\n",
    "new_columns = current_columns[:2] + [start_month, end_month] + current_columns[4:]\n",
    "df.columns = new_columns\n",
    "\n",
    "# Process specific columns (including start_month, end_month, and \"Total Consumption\")\n",
    "for column in [start_month, end_month, \"Total Consumption\"]:\n",
    "    # Replace \" kWh\" and commas, then convert to float\n",
    "    new_col = column.replace(' ', '_')\n",
    "    df[new_col] = df[column].str.replace(' kWh', '').str.replace(',', '').astype(float)\n",
    "\n",
    "# Export the cleaned DataFrame to an Excel file\n",
    "df.to_excel(file_name_output, index=False)\n",
    "\n",
    "# Print a success message\n",
    "print(\"Report successfully processed\")\n"
   ]
  },
  {
   "cell_type": "code",
   "execution_count": 8,
   "metadata": {},
   "outputs": [],
   "source": []
  },
  {
   "cell_type": "code",
   "execution_count": null,
   "metadata": {},
   "outputs": [],
   "source": []
  },
  {
   "cell_type": "code",
   "execution_count": null,
   "metadata": {},
   "outputs": [],
   "source": []
  },
  {
   "cell_type": "code",
   "execution_count": null,
   "metadata": {},
   "outputs": [],
   "source": []
  },
  {
   "cell_type": "code",
   "execution_count": null,
   "metadata": {},
   "outputs": [],
   "source": []
  }
 ],
 "metadata": {
  "kernelspec": {
   "display_name": "Python 3",
   "language": "python",
   "name": "python3"
  },
  "language_info": {
   "codemirror_mode": {
    "name": "ipython",
    "version": 3
   },
   "file_extension": ".py",
   "mimetype": "text/x-python",
   "name": "python",
   "nbconvert_exporter": "python",
   "pygments_lexer": "ipython3",
   "version": "3.10.12"
  },
  "orig_nbformat": 4
 },
 "nbformat": 4,
 "nbformat_minor": 2
}
