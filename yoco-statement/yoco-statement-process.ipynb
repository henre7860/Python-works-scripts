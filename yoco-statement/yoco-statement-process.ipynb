{
 "cells": [
  {
   "cell_type": "code",
   "execution_count": 123,
   "metadata": {},
   "outputs": [],
   "source": [
    "import pandas as pd"
   ]
  },
  {
   "cell_type": "code",
   "execution_count": 128,
   "metadata": {},
   "outputs": [],
   "source": [
    "yoco_input = \"/home/pieter/Documents/Python/yoco-statement/Transactions-from-2023-08-01.csv\"\n",
    "\n",
    "df = pd.read_csv(yoco_input,skiprows= 1)"
   ]
  },
  {
   "cell_type": "code",
   "execution_count": 129,
   "metadata": {},
   "outputs": [],
   "source": [
    "df[\"Amount\"] = df[\"Total (incl. tax)\"]\n",
    "df[\"Reference Number\"] = df[\"Note\"]\n",
    "df[\"Description\"] = None\n",
    "columsToKeep = [\"Date\", \"Description\", \"Reference Number\", \"Amount\", \"Fee Amount\"]\n",
    "df = df[columsToKeep]\n",
    "df.loc[:,\"Fee Amount\"] = df[\"Fee Amount\"] * -1"
   ]
  },
  {
   "cell_type": "code",
   "execution_count": 131,
   "metadata": {},
   "outputs": [
    {
     "name": "stdout",
     "output_type": "stream",
     "text": [
      "         Date Description  Reference Number    Amount  Fee Amount\n",
      "0  2023/08/16        None               760  4 427.50      -150.2\n",
      "1  2023/08/08        None               740  3 260.25      -110.6\n",
      "2  2023/08/16    yoco fee               760    -150.2      -150.2\n",
      "3  2023/08/08    yoco fee               740    -110.6      -110.6\n"
     ]
    }
   ],
   "source": [
    "# Create a list to store modified rows\n",
    "new_rows = []\n",
    "\n",
    "# Iterate through rows\n",
    "for index, row in df.iterrows():\n",
    "    if row['Fee Amount'] != 0:\n",
    "        new_row = row.copy()\n",
    "        new_row['Description'] = 'yoco fee'\n",
    "        new_row['Amount'] = row['Fee Amount']\n",
    "        new_rows.append(new_row)\n",
    "\n",
    "# Create a new DataFrame from the modified rows\n",
    "new_df = pd.DataFrame(new_rows)\n",
    "\n",
    "# Concatenate the original DataFrame and the new DataFrame\n",
    "result_df = pd.concat([df, new_df], ignore_index=True)\n",
    "\n",
    "print(result_df)"
   ]
  },
  {
   "cell_type": "code",
   "execution_count": 135,
   "metadata": {},
   "outputs": [],
   "source": [
    "columsToKeep = [\"Date\", \"Description\", \"Reference Number\", \"Amount\"]\n",
    "df2 = result_df[columsToKeep]"
   ]
  },
  {
   "cell_type": "code",
   "execution_count": 137,
   "metadata": {},
   "outputs": [],
   "source": [
    "yoco_output = \"yoco-output.csv\"\n",
    "df2.to_csv(yoco_output,index= None)"
   ]
  }
 ],
 "metadata": {
  "kernelspec": {
   "display_name": "Python 3",
   "language": "python",
   "name": "python3"
  },
  "language_info": {
   "codemirror_mode": {
    "name": "ipython",
    "version": 3
   },
   "file_extension": ".py",
   "mimetype": "text/x-python",
   "name": "python",
   "nbconvert_exporter": "python",
   "pygments_lexer": "ipython3",
   "version": "3.10.12"
  },
  "orig_nbformat": 4
 },
 "nbformat": 4,
 "nbformat_minor": 2
}
